{
 "cells": [
  {
   "cell_type": "code",
   "execution_count": 1,
   "metadata": {},
   "outputs": [
    {
     "name": "stdout",
     "output_type": "stream",
     "text": [
      "Calling Regression with threshold = 1e-05, random =             2, max_iter = 10\n",
      "random,  2\n",
      "random should be 1 or 0.  2  is not a valid value.\n"
     ]
    },
    {
     "ename": "NameError",
     "evalue": "name 'exit' is not defined",
     "output_type": "error",
     "traceback": [
      "\u001b[1;31m---------------------------------------------------------------------------\u001b[0m",
      "\u001b[1;31mNameError\u001b[0m                                 Traceback (most recent call last)",
      "\u001b[1;32m~\\AppData\\Local\\Temp/ipykernel_20640/2775431607.py\u001b[0m in \u001b[0;36m<module>\u001b[1;34m\u001b[0m\n\u001b[0;32m      8\u001b[0m \u001b[0mcounter\u001b[0m \u001b[1;33m=\u001b[0m \u001b[1;36m0\u001b[0m\u001b[1;33m\u001b[0m\u001b[1;33m\u001b[0m\u001b[0m\n\u001b[0;32m      9\u001b[0m \u001b[1;32mwhile\u001b[0m \u001b[0mcounter\u001b[0m \u001b[1;33m<\u001b[0m \u001b[1;36m1\u001b[0m\u001b[1;33m:\u001b[0m\u001b[1;33m\u001b[0m\u001b[1;33m\u001b[0m\u001b[0m\n\u001b[1;32m---> 10\u001b[1;33m     regression_parameters = mregress.multi_regress_from_csv_2(input_csv, \\\n\u001b[0m\u001b[0;32m     11\u001b[0m         threshold=0.00001, random = 2, max_iter = 10, learning_rate = 0.01)\n\u001b[0;32m     12\u001b[0m \u001b[1;33m\u001b[0m\u001b[0m\n",
      "\u001b[1;32mc:\\Users\\customer\\Documents\\GitHub\\CausalAndBayesianNetworks\\TestExamples\\TestExample2_Fork\\with_U1_external_noise\\..\\..\\..\\multiple_regression_random_initialisation.py\u001b[0m in \u001b[0;36mmulti_regress_from_csv_2\u001b[1;34m(filename, threshold, random, max_iter, learning_rate)\u001b[0m\n\u001b[0;32m     34\u001b[0m         print(f\"Calling Regression with threshold = {threshold}, random = \\\n\u001b[0;32m     35\u001b[0m             {random}, max_iter = {max_iter}\")\n\u001b[1;32m---> 36\u001b[1;33m         regression_out_parameters = regress(independent_data, dependent_data, \\\n\u001b[0m\u001b[0;32m     37\u001b[0m             threshold, random, max_iter, learning_rate)\n\u001b[0;32m     38\u001b[0m         \u001b[0mr_squared\u001b[0m \u001b[1;33m=\u001b[0m \u001b[0mcalculate_r_squared\u001b[0m\u001b[1;33m(\u001b[0m\u001b[0mregression_out_parameters\u001b[0m\u001b[1;33m,\u001b[0m \u001b[0mindependent_data\u001b[0m\u001b[1;33m,\u001b[0m \u001b[0mdependent_data\u001b[0m\u001b[1;33m)\u001b[0m\u001b[1;33m\u001b[0m\u001b[1;33m\u001b[0m\u001b[0m\n",
      "\u001b[1;32mc:\\Users\\customer\\Documents\\GitHub\\CausalAndBayesianNetworks\\TestExamples\\TestExample2_Fork\\with_U1_external_noise\\..\\..\\..\\multiple_regression_random_initialisation.py\u001b[0m in \u001b[0;36mregress\u001b[1;34m(independent_data, dependent_data, threshold, random, max_iter, learning_rate)\u001b[0m\n\u001b[0;32m    119\u001b[0m     \u001b[1;32melse\u001b[0m\u001b[1;33m:\u001b[0m\u001b[1;33m\u001b[0m\u001b[1;33m\u001b[0m\u001b[0m\n\u001b[0;32m    120\u001b[0m         \u001b[0mprint\u001b[0m\u001b[1;33m(\u001b[0m\u001b[1;34m\"random should be 1 or 0. \"\u001b[0m\u001b[1;33m,\u001b[0m \u001b[0mrandom\u001b[0m\u001b[1;33m,\u001b[0m \u001b[1;34m\" is not a valid value.\"\u001b[0m\u001b[1;33m)\u001b[0m\u001b[1;33m\u001b[0m\u001b[1;33m\u001b[0m\u001b[0m\n\u001b[1;32m--> 121\u001b[1;33m         \u001b[0mexit\u001b[0m\u001b[1;33m(\u001b[0m\u001b[1;33m)\u001b[0m\u001b[1;33m\u001b[0m\u001b[1;33m\u001b[0m\u001b[0m\n\u001b[0m\u001b[0;32m    122\u001b[0m \u001b[1;33m\u001b[0m\u001b[0m\n\u001b[0;32m    123\u001b[0m \u001b[1;33m\u001b[0m\u001b[0m\n",
      "\u001b[1;31mNameError\u001b[0m: name 'exit' is not defined"
     ]
    }
   ],
   "source": [
    "import pandas as pd\n",
    "import numpy as np\n",
    "import sys as sys\n",
    "sys.path.append(\"..\\\\..\\..\\\\\")\n",
    "import multiple_regression_random_initialisation as mregress\n",
    "\n",
    "input_csv = \"ExampleTwo_SimpleFork_U1_Noise_NetworkValues_butU1deleted.csv\"\n",
    "counter = 0 \n",
    "while counter < 1:\n",
    "    regression_parameters = mregress.multi_regress_from_csv_2(input_csv, \\\n",
    "        threshold=0.00001, random = 2, max_iter = 10, learning_rate = 0.01)\n",
    "\n",
    "    if \"all_regression_out_parameters\" in locals():\n",
    "        all_regression_out_parameters = np.append(all_regression_out_parameters,\\\n",
    "                                             regression_parameters, axis=0)\n",
    "    else:\n",
    "        all_regression_out_parameters = regression_parameters\n",
    "    counter += 1\n",
    "print(\"all_regression_parameters: \\n\", all_regression_out_parameters)"
   ]
  }
 ],
 "metadata": {
  "kernelspec": {
   "display_name": "Python 3.10.0 64-bit",
   "language": "python",
   "name": "python3"
  },
  "language_info": {
   "codemirror_mode": {
    "name": "ipython",
    "version": 3
   },
   "file_extension": ".py",
   "mimetype": "text/x-python",
   "name": "python",
   "nbconvert_exporter": "python",
   "pygments_lexer": "ipython3",
   "version": "3.10.0"
  },
  "orig_nbformat": 4,
  "vscode": {
   "interpreter": {
    "hash": "0be956a77a4c4fbf44b600a6f9eb2d46be2a1971f98f17fca2b6e6ee6e47b8d2"
   }
  }
 },
 "nbformat": 4,
 "nbformat_minor": 2
}
