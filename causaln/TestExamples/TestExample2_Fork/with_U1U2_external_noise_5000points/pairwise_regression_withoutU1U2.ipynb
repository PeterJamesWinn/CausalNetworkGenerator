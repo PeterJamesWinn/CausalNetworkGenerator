{
 "cells": [
  {
   "cell_type": "markdown",
   "metadata": {},
   "source": [
    "Contains: Pairwise comparisons; pairwise plots; multiple linear regression (random initialisations)"
   ]
  },
  {
   "cell_type": "markdown",
   "metadata": {},
   "source": [
    "Pairwise comparisons"
   ]
  },
  {
   "cell_type": "code",
   "execution_count": 1,
   "metadata": {},
   "outputs": [
    {
     "name": "stdout",
     "output_type": "stream",
     "text": [
      "calculation_key, slope, intercept, r_value, p_value, std_err\n",
      "XX 1.0 0.0 1.0 0.0 0.0\n",
      "BX 0.5378993703343878 8.607480939260629 0.47774255704391766 1.5634943090714604e-283 0.013991062273314083\n",
      "YX 0.15407597461123307 11.34839625765686 0.1426712879727095 3.756119722665667e-24 0.015119400021208446\n",
      "calculation_key, slope, intercept, r_value, p_value, std_err\n",
      "XB 0.4243134745983727 2.573225601112167 0.47774255704391766 1.5634943090714604e-283 0.011036629849225502\n",
      "BB 1.0 0.0 1.0 0.0 0.0\n",
      "YB 0.26797645779680135 5.287099943969173 0.2793864932873799 2.5176156043186224e-90 0.013027023282649205\n",
      "calculation_key, slope, intercept, r_value, p_value, std_err\n",
      "XY 0.13211077498066848 8.661807851712776 0.1426712879727095 3.756119722665667e-24 0.012963965725899475\n",
      "BY 0.29128235096908167 8.022521787672806 0.2793864932873799 2.5176156043186224e-90 0.014159982556289755\n",
      "YY 1.0 0.0 1.0 0.0 0.0\n"
     ]
    }
   ],
   "source": [
    "import sys as sys\n",
    "sys.path.append('..\\\\..\\\\') \n",
    "sys.path.append('..\\\\..\\\\..\\\\') #to pick up calculate_write_pairwise_regression \n",
    "import calculate_write_pairwise_regression as pair_regress\n",
    "\n",
    "csv_file = \"ExampleTwo_SimpleFork_U1U2Noise_NetworkValues_U1U2deleted.csv\"\n",
    "slope_dataframe, intercept_dataframe, correlation_dataframe, p_dataframe, \\\n",
    "    std_err_dataframe = pair_regress.regress_from_csv(csv_file)\n",
    "dictionary_dataframes = dict(zip([\"slope\", \"intercept\", \"correlation\", \\\n",
    "    \"p-value\", \"std_err\"],\n",
    "    [slope_dataframe, intercept_dataframe, correlation_dataframe, \n",
    "    p_dataframe, std_err_dataframe]))\n",
    "for name in [\"slope\",  \"intercept\", \"correlation\"]:\n",
    "    pair_regress.dataframe_to_html(dictionary_dataframes[name], name)\n",
    "    pair_regress.dataframe_to_tex(dictionary_dataframes[name], name)\n",
    "    pair_regress.dataframe_to_csv(dictionary_dataframes[name], name)"
   ]
  },
  {
   "cell_type": "markdown",
   "metadata": {},
   "source": [
    "Pairwise plots"
   ]
  },
  {
   "cell_type": "code",
   "execution_count": null,
   "metadata": {},
   "outputs": [],
   "source": [
    "import sys\n",
    "sys.path.append('..\\\\..\\\\') # to pick up network_generator.py\n",
    "sys.path.append('..\\\\..\\\\..\\\\') # to pick up network_generator.py\n",
    "import plot_data as plot\n",
    "\n",
    "#one_plot\n",
    "plot.all_against_all__superposed_scatter(csv_file, \"ExampleTwo_SimpleFork_U1U2Noise_NetworkValues_butU1U2deleted_superposed_scatter_\")\n",
    "plot.all_against_all__individual_scatter(csv_file, \"ExampleTwo_SimpleFork_U1U2Noise_NetworkValues_butU1U2deleted_individual_scatter_\")"
   ]
  }
 ],
 "metadata": {
  "kernelspec": {
   "display_name": "Python 3.10.0 64-bit",
   "language": "python",
   "name": "python3"
  },
  "language_info": {
   "codemirror_mode": {
    "name": "ipython",
    "version": 3
   },
   "file_extension": ".py",
   "mimetype": "text/x-python",
   "name": "python",
   "nbconvert_exporter": "python",
   "pygments_lexer": "ipython3",
   "version": "3.10.0"
  },
  "orig_nbformat": 4,
  "vscode": {
   "interpreter": {
    "hash": "0be956a77a4c4fbf44b600a6f9eb2d46be2a1971f98f17fca2b6e6ee6e47b8d2"
   }
  }
 },
 "nbformat": 4,
 "nbformat_minor": 2
}
