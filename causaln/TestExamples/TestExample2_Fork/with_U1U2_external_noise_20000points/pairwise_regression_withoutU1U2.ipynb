{
 "cells": [
  {
   "cell_type": "markdown",
   "metadata": {},
   "source": [
    "Contains: Pairwise comparisons; pairwise plots; multiple linear regression (random initialisations)"
   ]
  },
  {
   "cell_type": "markdown",
   "metadata": {},
   "source": [
    "Pairwise comparisons"
   ]
  },
  {
   "cell_type": "code",
   "execution_count": 1,
   "metadata": {},
   "outputs": [
    {
     "name": "stdout",
     "output_type": "stream",
     "text": [
      "calculation_key, slope, intercept, r_value, p_value, std_err\n",
      "XX 1.0 0.0 1.0 0.0 0.0\n",
      "BX 0.5014067722965463 8.980915024069478 0.4494579640864415 0.0 0.007047026229084284\n",
      "YX 0.14267516255822274 11.50092476161031 0.13311545514412995 9.727830952636995e-80 0.007511805325199142\n",
      "calculation_key, slope, intercept, r_value, p_value, std_err\n",
      "XB 0.40289137012543774 2.7546746192259004 0.4494579640864415 0.0 0.005662440576423824\n",
      "BB 1.0 0.0 1.0 0.0 0.0\n",
      "YB 0.272311063580944 5.153210717395362 0.28343045049895693 0.0 0.006515396366937157\n",
      "calculation_key, slope, intercept, r_value, p_value, std_err\n",
      "XY 0.12419627972036004 8.791325944040215 0.13311545514412995 9.727830952636995e-80 0.006538897581368518\n",
      "BY 0.295003879804402 8.048050764524113 0.28343045049895693 0.0 0.007058351509609655\n",
      "YY 1.0 0.0 1.0 0.0 0.0\n"
     ]
    }
   ],
   "source": [
    "import sys as sys\n",
    "sys.path.append('..\\\\..\\\\') \n",
    "sys.path.append('..\\\\..\\\\..\\\\') #to pick up calculate_write_pairwise_regression \n",
    "import calculate_write_pairwise_regression as pair_regress\n",
    "\n",
    "csv_file = \"ExampleTwo_SimpleFork_U1U2Noise_NetworkValues_U1U2deleted.csv\"\n",
    "slope_dataframe, intercept_dataframe, correlation_dataframe, p_dataframe, \\\n",
    "    std_err_dataframe = pair_regress.regress_from_csv(csv_file)\n",
    "dictionary_dataframes = dict(zip([\"slope\", \"intercept\", \"correlation\", \\\n",
    "    \"p-value\", \"std_err\"],\n",
    "    [slope_dataframe, intercept_dataframe, correlation_dataframe, \n",
    "    p_dataframe, std_err_dataframe]))\n",
    "for name in [\"slope\",  \"intercept\", \"correlation\"]:\n",
    "    pair_regress.dataframe_to_html(dictionary_dataframes[name], name)\n",
    "    pair_regress.dataframe_to_tex(dictionary_dataframes[name], name)\n",
    "    pair_regress.dataframe_to_csv(dictionary_dataframes[name], name)"
   ]
  },
  {
   "cell_type": "markdown",
   "metadata": {},
   "source": [
    "Pairwise plots"
   ]
  },
  {
   "cell_type": "code",
   "execution_count": null,
   "metadata": {},
   "outputs": [],
   "source": [
    "import sys\n",
    "sys.path.append('..\\\\..\\\\') # to pick up network_generator.py\n",
    "sys.path.append('..\\\\..\\\\..\\\\') # to pick up network_generator.py\n",
    "import plot_data as plot\n",
    "\n",
    "#one_plot\n",
    "plot.all_against_all__superposed_scatter(csv_file, \"ExampleTwo_SimpleFork_U1U2Noise_NetworkValues_butU1U2deleted_superposed_scatter_\")\n",
    "plot.all_against_all__individual_scatter(csv_file, \"ExampleTwo_SimpleFork_U1U2Noise_NetworkValues_butU1U2deleted_individual_scatter_\")"
   ]
  }
 ],
 "metadata": {
  "kernelspec": {
   "display_name": "Python 3.10.0 64-bit",
   "language": "python",
   "name": "python3"
  },
  "language_info": {
   "codemirror_mode": {
    "name": "ipython",
    "version": 3
   },
   "file_extension": ".py",
   "mimetype": "text/x-python",
   "name": "python",
   "nbconvert_exporter": "python",
   "pygments_lexer": "ipython3",
   "version": "3.10.0"
  },
  "orig_nbformat": 4,
  "vscode": {
   "interpreter": {
    "hash": "0be956a77a4c4fbf44b600a6f9eb2d46be2a1971f98f17fca2b6e6ee6e47b8d2"
   }
  }
 },
 "nbformat": 4,
 "nbformat_minor": 2
}
