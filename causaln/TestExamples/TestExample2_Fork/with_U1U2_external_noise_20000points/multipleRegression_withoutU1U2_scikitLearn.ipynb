{
 "cells": [
  {
   "cell_type": "markdown",
   "metadata": {},
   "source": [
    "20000 data points were generated for the fork X<-B->Y with noise U1, U2 at X and Y respectively. Multiple regression is on X, B and Y - U1 and U2 are assumed to be unknown. "
   ]
  },
  {
   "cell_type": "code",
   "execution_count": 1,
   "metadata": {},
   "outputs": [
    {
     "name": "stdout",
     "output_type": "stream",
     "text": [
      "dependent name:  X\n",
      "independent names:  ['B', 'Y']\n",
      "Intercept: \n",
      " 8.927213776574135\n",
      "Coefficients: \n",
      " [0.49943834 0.00667258]\n",
      "dependent name:  B\n",
      "independent names:  ['X', 'Y']\n",
      "Intercept: \n",
      " 0.8319778441325951\n",
      "Coefficients: \n",
      " [0.37572917 0.21870384]\n",
      "dependent name:  Y\n",
      "independent names:  ['X', 'B']\n",
      "Intercept: \n",
      " 7.987932138830896\n",
      "Coefficients: \n",
      " [0.00669404 0.29164744]\n"
     ]
    }
   ],
   "source": [
    "# prints to screen/stdout the regression of each variable in the csv file\n",
    "# with every other variable in the csv file. Coefficient values are \n",
    "# in the same order as the output list of independent names of the variables\n",
    "import sys \n",
    "sys.path.append('..\\\\..\\\\..\\\\') # to pick up regression module.\n",
    "import calculate_multiple_regression as cmr\n",
    "input_csv = \"ExampleTwo_SimpleFork_U1U2Noise_NetworkValues_U1U2deleted.csv\"\n",
    "cmr.multi_regress_from_csv(input_csv)"
   ]
  }
 ],
 "metadata": {
  "kernelspec": {
   "display_name": "Python 3.10.0 64-bit",
   "language": "python",
   "name": "python3"
  },
  "language_info": {
   "codemirror_mode": {
    "name": "ipython",
    "version": 3
   },
   "file_extension": ".py",
   "mimetype": "text/x-python",
   "name": "python",
   "nbconvert_exporter": "python",
   "pygments_lexer": "ipython3",
   "version": "3.10.0"
  },
  "orig_nbformat": 4,
  "vscode": {
   "interpreter": {
    "hash": "0be956a77a4c4fbf44b600a6f9eb2d46be2a1971f98f17fca2b6e6ee6e47b8d2"
   }
  }
 },
 "nbformat": 4,
 "nbformat_minor": 2
}
