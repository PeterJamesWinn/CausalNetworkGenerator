{
 "cells": [
  {
   "cell_type": "code",
   "execution_count": 3,
   "metadata": {},
   "outputs": [],
   "source": [
    "sys.path.append('..\\\\') # to pick up network_generator.py\n",
    "import network_generator as ng\n"
   ]
  },
  {
   "cell_type": "code",
   "execution_count": 4,
   "metadata": {},
   "outputs": [],
   "source": [
    "# Define the nodes, their names and any initial values. Default value is 0\n",
    "X = ng.Node(\"X\", 5)\n",
    "B = ng.Node(\"B\")\n",
    "Y = ng.Node(\"Y\")\n",
    "\n",
    "# Define the connections that a node makes. \n",
    "# AddOutConnection automatically also creats an AddInConnection \n",
    "# call on the recieving node\n",
    "# The below defines a simple network such that X->B->Y \n",
    "# such that initially defining the value of X propagates through \n",
    "# to define the values\n",
    "# of B and y. X = 5 B = 0.5 X; Y = 0.5 B\n",
    "# final values should be X = 5; Y = 2.5; B = 1.25\n",
    "X.add_out_connection(B, 0.5)\n",
    "# B.AddInConnection(X,0.5)\n",
    "B.add_out_connection(Y, 0.5)\n",
    "# Y.AddInConnection(B,0.5)"
   ]
  },
  {
   "cell_type": "code",
   "execution_count": 5,
   "metadata": {},
   "outputs": [],
   "source": [
    "# X.PrintNodeData()\n",
    "# B.PrintNodeData()\n",
    "# Y.PrintNodeData()\n",
    "# X.PrintNodeData()\n",
    "\n",
    "# defining the node list in the order of influence, X->B->Y means that the\n",
    "# network values with be consistent after one evaluation of the network.\n",
    "node_list = [X, B, Y]\n",
    "network = ng.NetworkInstance(node_list)"
   ]
  },
  {
   "cell_type": "code",
   "execution_count": 8,
   "metadata": {},
   "outputs": [
    {
     "name": "stdout",
     "output_type": "stream",
     "text": [
      "  NodeName  Node Bias Value  CurrentValue InComingConnectionFromNodes  \\\n",
      "0        X                5          5.00                        None   \n",
      "1        B                0          2.50                           X   \n",
      "2        Y                0          1.25                           B   \n",
      "\n",
      "   InComingValues - Coupling and FunctionForm  \n",
      "0                                         NaN  \n",
      "1                                         0.5  \n",
      "2                                         0.5  \n"
     ]
    }
   ],
   "source": [
    "network.evaluate_network_linear()\n",
    "network.converge_network_linear()\n",
    "network_dataframe = network.make_network_parameters_dataframe()\n",
    "print(network_dataframe)"
   ]
  },
  {
   "cell_type": "markdown",
   "metadata": {},
   "source": [
    "The above values for CurrentValue are correct, for these inputs. "
   ]
  },
  {
   "cell_type": "code",
   "execution_count": 11,
   "metadata": {},
   "outputs": [
    {
     "name": "stdout",
     "output_type": "stream",
     "text": [
      "  NodeName  Node Bias Value  CurrentValue InComingConnectionFromNodes  \\\n",
      "0        A                5           5.0                        None   \n",
      "1        B                0           3.0                           A   \n",
      "2        Y                0           0.5                           C   \n",
      "3        X                0           4.0                           A   \n",
      "4        C                1           1.0                        None   \n",
      "\n",
      "   InComingValues - Coupling and FunctionForm     5    6  \n",
      "0                                         NaN  None  NaN  \n",
      "1                                         0.5     C  0.5  \n",
      "2                                         0.5     X  0.5  \n",
      "3                                         0.5     B  0.5  \n",
      "4                                         NaN  None  NaN  \n",
      "re-evaluate\n",
      "  NodeName  Node Bias Value  CurrentValue InComingConnectionFromNodes  \\\n",
      "0        A                5           5.0                        None   \n",
      "1        B                0           3.0                           A   \n",
      "2        Y                0           2.5                           C   \n",
      "3        X                0           4.0                           A   \n",
      "4        C                1           1.0                        None   \n",
      "\n",
      "   InComingValues - Coupling and FunctionForm     5    6  \n",
      "0                                         NaN  None  NaN  \n",
      "1                                         0.5     C  0.5  \n",
      "2                                         0.5     X  0.5  \n",
      "3                                         0.5     B  0.5  \n",
      "4                                         NaN  None  NaN  \n"
     ]
    }
   ],
   "source": [
    "# Game 5 from Chapter 4 (Confounding and Deconfounding ...) \n",
    "# of The Book of Why.  \n",
    "\n",
    "A = ng.Node(\"A\", 5)\n",
    "B = ng.Node(\"B\")\n",
    "C = ng.Node(\"C\", 1)\n",
    "Y = ng.Node(\"Y\")\n",
    "X = ng.Node(\"X\")\n",
    "\n",
    "A.add_out_connection(B, 0.5)\n",
    "A.add_out_connection(X, 0.5)\n",
    "B.add_out_connection(X, 0.5)\n",
    "C.add_out_connection(B, 0.5)\n",
    "C.add_out_connection(Y, 0.5)\n",
    "X.add_out_connection(Y, 0.5)\n",
    "\n",
    "# node_list = [A, C, B, X, Y]:  giving nodes in this order leads to\n",
    "# convergence in the first iteration, since a node is only visited\n",
    "# once the nodes on which it is dependent has been visited. \n",
    "# Any other order is a suboptimal order but network converges for this\n",
    "# topology on second pass.\n",
    "node_list = [A, C, B, Y, X]\n",
    "node_list = [A, B, Y, X, C]\n",
    "network = ng.NetworkInstance(node_list)\n",
    "network.evaluate_network_linear()\n",
    "network_dataframe_game5 = network.make_network_parameters_dataframe()\n",
    "print(network_dataframe_game5)\n",
    "network.converge_network_linear()\n",
    "network_dataframe_game5 = network.make_network_parameters_dataframe()\n",
    "print(network_dataframe_game5)\n",
    "network_dataframe_game5.to_csv(\n",
    "    \"NetworkParameters_game5.csv\",\n",
    "    index=False,\n",
    "    na_rep='None')"
   ]
  }
 ],
 "metadata": {
  "interpreter": {
   "hash": "0be956a77a4c4fbf44b600a6f9eb2d46be2a1971f98f17fca2b6e6ee6e47b8d2"
  },
  "kernelspec": {
   "display_name": "Python 3.10.0 64-bit",
   "language": "python",
   "name": "python3"
  },
  "language_info": {
   "codemirror_mode": {
    "name": "ipython",
    "version": 3
   },
   "file_extension": ".py",
   "mimetype": "text/x-python",
   "name": "python",
   "nbconvert_exporter": "python",
   "pygments_lexer": "ipython3",
   "version": "3.10.0"
  },
  "orig_nbformat": 4
 },
 "nbformat": 4,
 "nbformat_minor": 2
}
