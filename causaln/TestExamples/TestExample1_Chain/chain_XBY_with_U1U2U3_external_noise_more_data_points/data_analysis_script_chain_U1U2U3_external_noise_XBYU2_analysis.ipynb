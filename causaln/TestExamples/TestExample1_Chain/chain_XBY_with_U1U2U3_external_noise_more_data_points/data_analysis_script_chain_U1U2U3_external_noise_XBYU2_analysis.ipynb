{
 "cells": [
  {
   "cell_type": "markdown",
   "metadata": {},
   "source": [
    "Scripts to analyse 1. Noise free data generated for X ->B -> Y 2. "
   ]
  },
  {
   "cell_type": "code",
   "execution_count": 1,
   "metadata": {},
   "outputs": [
    {
     "name": "stdout",
     "output_type": "stream",
     "text": [
      "calculation_key, slope, intercept, r_value, p_value, std_err\n",
      "XX 1.0 0.0 1.0 0.0 0.0\n",
      "BX 0.6628519006358135 4.7485126768653405 0.5792915464039788 0.0 0.006595501260600156\n",
      "YX 0.36364357664598895 10.033817357633158 0.30384135931607925 0.0 0.008063103487808466\n",
      "U2X 0.012344692976753509 15.934641846938211 0.008794264984465188 0.2136309114728574 0.009925917679276702\n",
      "calculation_key, slope, intercept, r_value, p_value, std_err\n",
      "XB 0.506264967201909 8.90770064836819 0.5792915464039788 0.0 0.00503743177951971\n",
      "BB 1.0 0.0 1.0 0.0 0.0\n",
      "YB 0.543888334925055 8.051395139738503 0.5199960313126112 0.0 0.0063177156389902485\n",
      "U2B 1.0061723464883765 8.967320923469106 0.8201833455818692 0.0 0.004962958839638357\n",
      "calculation_key, slope, intercept, r_value, p_value, std_err\n",
      "XY 0.25387378620169304 12.428314648935153 0.30384135931607925 0.0 0.00562916752130287\n",
      "BY 0.49715328536716147 8.034815031952613 0.5199960313126112 0.0 0.00577484914504058\n",
      "YY 1.0 0.0 1.0 0.0 0.0\n",
      "U2Y 0.4980716590142361 12.510167443865145 0.4246587871923098 0.0 0.007508904936673297\n",
      "calculation_key, slope, intercept, r_value, p_value, std_err\n",
      "XU2 0.0062649672019084645 7.907700648368201 0.008794264984465188 0.2136309114728574 0.005037431779519711\n",
      "BU2 0.6685740496820929 -3.3742563384326623 0.8201833455818692 0.0 0.003297750630300083\n",
      "YU2 0.3620665466020604 2.0344864609219266 0.4246587871923098 0.0 0.005458498250161943\n",
      "U2U2 1.0 0.0 1.0 0.0 0.0\n"
     ]
    }
   ],
   "source": [
    "from sys import *\n",
    "sys.path.append('..\\\\..\\\\') \n",
    "sys.path.append('..\\\\..\\\\..\\\\') # to pick up network_generator.py\n",
    "import calculate_write_pairwise_regression as pair_regress\n",
    "filename = \"ExampleOne_Chain_U1XU2BU3Y_NetworkValues_deleted_U1U3.csv\"\n",
    "\n",
    "slope_dataframe, intercept_dataframe, correlation_dataframe, p_dataframe, std_err_dataframe = pair_regress.regress_from_csv(filename)\n",
    "dictionary_dataframes = dict(zip([\"slope\", \"intercept\", \"correlation\", \"p-value\", \"std_err\"],\n",
    "    [slope_dataframe, intercept_dataframe, correlation_dataframe, \n",
    "    p_dataframe, std_err_dataframe]))\n",
    "for name in [\"slope\",  \"intercept\", \"correlation\"]:\n",
    "    pair_regress.dataframe_to_html(dictionary_dataframes[name], name)\n",
    "    pair_regress.dataframe_to_tex(dictionary_dataframes[name], name)\n",
    "    pair_regress.dataframe_to_csv(dictionary_dataframes[name], name)"
   ]
  },
  {
   "cell_type": "code",
   "execution_count": null,
   "metadata": {},
   "outputs": [],
   "source": [
    "import sys\n",
    "sys.path.append('..\\\\..\\\\') # to pick up network_generator.py\n",
    "sys.path.append('..\\\\..\\\\..\\\\') # to pick up network_generator.py\n",
    "import plot_data as plot\n",
    "filestem = \"ExampleOne_Chain_U1XU2BU3Y_NetworkValues\"\n",
    "filename = filestem + \".csv\"\n",
    "\n",
    "#one_plot(\"Example1_3_node_chain_NetworkValues.csv\", \"Example1_3_node_chain_NetworkValues_plot_\")\n",
    "plot.all_against_all__superposed_scatter(filename, filestem + \"_superposed_scatter_\")\n",
    "plot.all_against_all__individual_scatter(filename, filestem + \"_individual_scatter_\")"
   ]
  }
 ],
 "metadata": {
  "kernelspec": {
   "display_name": "Python 3.10.0 64-bit",
   "language": "python",
   "name": "python3"
  },
  "language_info": {
   "codemirror_mode": {
    "name": "ipython",
    "version": 3
   },
   "file_extension": ".py",
   "mimetype": "text/x-python",
   "name": "python",
   "nbconvert_exporter": "python",
   "pygments_lexer": "ipython3",
   "version": "3.10.0"
  },
  "orig_nbformat": 4,
  "vscode": {
   "interpreter": {
    "hash": "0be956a77a4c4fbf44b600a6f9eb2d46be2a1971f98f17fca2b6e6ee6e47b8d2"
   }
  }
 },
 "nbformat": 4,
 "nbformat_minor": 2
}
