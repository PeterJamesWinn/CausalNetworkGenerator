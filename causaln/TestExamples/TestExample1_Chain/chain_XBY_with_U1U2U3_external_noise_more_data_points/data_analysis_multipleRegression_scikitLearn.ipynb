{
 "cells": [
  {
   "cell_type": "markdown",
   "metadata": {},
   "source": [
    "Data was generated for the fork X<-B->Y . Multiple regression is on X, B and Y. "
   ]
  },
  {
   "cell_type": "code",
   "execution_count": 1,
   "metadata": {},
   "outputs": [
    {
     "name": "stdout",
     "output_type": "stream",
     "text": [
      "dependent name:  X\n",
      "independent names:  ['B', 'Y']\n",
      "Intercept: \n",
      " 4.7140856262521975\n",
      "Coefficients: \n",
      " [0.66072173 0.00428473]\n",
      "dependent name:  B\n",
      "independent names:  ['X', 'Y']\n",
      "Intercept: \n",
      " 3.9813384052207716\n",
      "Coefficients: \n",
      " [0.40563393 0.39638216]\n",
      "dependent name:  Y\n",
      "independent names:  ['X', 'B']\n",
      "Intercept: \n",
      " 8.019217093278742\n",
      "Coefficients: \n",
      " [0.00328481 0.49497595]\n"
     ]
    }
   ],
   "source": [
    "# prints to screen/stdout the regression of each variable in the csv file\n",
    "# with every other variable in the csv file. Coefficient values are \n",
    "# in the same order as the output list of independent names of the variables\n",
    "import sys \n",
    "sys.path.append('..\\\\..\\\\..\\\\') # to pick up regression module.\n",
    "import calculate_multiple_regression as cmr\n",
    "input_csv = \"ExampleOne_Chain_U1XU2BU3Y_NetworkValues_deleted_U1U2U3.csv\"\n",
    "cmr.multi_regress_from_csv(input_csv)"
   ]
  }
 ],
 "metadata": {
  "kernelspec": {
   "display_name": "Python 3.10.0 64-bit",
   "language": "python",
   "name": "python3"
  },
  "language_info": {
   "codemirror_mode": {
    "name": "ipython",
    "version": 3
   },
   "file_extension": ".py",
   "mimetype": "text/x-python",
   "name": "python",
   "nbconvert_exporter": "python",
   "pygments_lexer": "ipython3",
   "version": "3.10.0"
  },
  "orig_nbformat": 4,
  "vscode": {
   "interpreter": {
    "hash": "0be956a77a4c4fbf44b600a6f9eb2d46be2a1971f98f17fca2b6e6ee6e47b8d2"
   }
  }
 },
 "nbformat": 4,
 "nbformat_minor": 2
}
