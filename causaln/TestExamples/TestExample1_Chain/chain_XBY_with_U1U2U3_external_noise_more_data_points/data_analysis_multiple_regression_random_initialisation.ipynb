{
 "cells": [
  {
   "cell_type": "code",
   "execution_count": 1,
   "metadata": {},
   "outputs": [
    {
     "name": "stdout",
     "output_type": "stream",
     "text": [
      "Calling Regression with threshold = 0.0001, random =             0, max_iter = 1000000\n",
      "random,  0\n",
      "setting initial parameters using gradient estimates.\n"
     ]
    },
    {
     "name": "stderr",
     "output_type": "stream",
     "text": [
      "<__array_function__ internals>:5: VisibleDeprecationWarning: Creating an ndarray from ragged nested sequences (which is a list-or-tuple of lists-or-tuples-or ndarrays with different lengths or shapes) is deprecated. If you meant to do this, you must specify 'dtype=object' when creating the ndarray.\n"
     ]
    },
    {
     "name": "stdout",
     "output_type": "stream",
     "text": [
      "Calling Regression with threshold = 0.0001, random =             0, max_iter = 1000000\n",
      "random,  0\n",
      "setting initial parameters using gradient estimates.\n",
      "Calling Regression with threshold = 0.0001, random =             0, max_iter = 1000000\n",
      "random,  0\n",
      "setting initial parameters using gradient estimates.\n",
      "all_regression_parameters: \n",
      " [['  ' '  ']\n",
      " ['dependent' 'X']\n",
      " ['intercept' '4.714085428549355']\n",
      " ['B' '0.6607217359702906']\n",
      " ['Y' '0.004284740423237637']\n",
      " ['r_squared ' array([0.33558805])]\n",
      " ['  ' '  ']\n",
      " ['dependent' 'B']\n",
      " ['intercept' '3.9813382639665864']\n",
      " ['X' '0.40563392959553096']\n",
      " ['Y' '0.3963821681679706']\n",
      " ['r_squared ' array([0.46593791])]\n",
      " ['  ' '  ']\n",
      " ['dependent' 'Y']\n",
      " ['intercept' '8.019217083101355']\n",
      " ['X' '0.003284805264123953']\n",
      " ['B' '0.4949759464585621']\n",
      " ['r_squared ' array([0.27040614])]]\n"
     ]
    }
   ],
   "source": [
    "import sys\n",
    "import numpy as np\n",
    "sys.path.append('..\\\\..\\\\..\\\\') # to pick up network_generator.py\n",
    "import multiple_regression_random_initialisation as mregress\n",
    "# Jupyter Notebook will carry over previous variable values, so reset for this next run\n",
    "if \"all_regression_out_parameters\" in locals():\n",
    "     del all_regression_out_parameters \n",
    "if \"regression_parameters\" in locals():\n",
    "    del regression_parameters\n",
    "\n",
    "# not a random initialisation\n",
    "input_csv = \"ExampleOne_Chain_U1XU2BU3Y_NetworkValues_deleted_U1U2U3.csv\"\n",
    "counter = 0 \n",
    "while counter < 1:\n",
    "    regression_parameters = mregress.multi_regress_from_csv_2(input_csv, \\\n",
    "        threshold=0.0001, random = 0, max_iter = 1000000, learning_rate = 0.0005)\n",
    "\n",
    "    if \"all_regression_out_parameters\" in locals():\n",
    "        all_regression_out_parameters = np.append(all_regression_out_parameters, regression_parameters, axis=0)\n",
    "    else:\n",
    "        all_regression_out_parameters = regression_parameters\n",
    "    #print(\"regression_parameters: \\n\", regression_parameters)\n",
    "    #print(\"all_regression_parameters: \\n\", all_regression_out_parameters)\n",
    "    counter += 1\n",
    "print(\"all_regression_parameters: \\n\", all_regression_out_parameters)"
   ]
  },
  {
   "cell_type": "markdown",
   "metadata": {},
   "source": [
    "# three random initialisations - small max_iter - may not converge will then repeat with higher iteration number to see how much further it optimises."
   ]
  },
  {
   "cell_type": "code",
   "execution_count": null,
   "metadata": {},
   "outputs": [],
   "source": [
    "import sys\n",
    "import numpy as np\n",
    "sys.path.append('..\\\\..\\\\..\\\\') # to pick up network_generator.py\n",
    "import multiple_regression_random_initialisation as mregress\n",
    "# Jupyter Notebook will carry over previous variable values, so reset for this next run\n",
    "if \"all_regression_out_parameters\" in locals():\n",
    "     del all_regression_out_parameters \n",
    "if \"regression_parameters\" in locals():\n",
    "    del regression_parameters\n",
    "\n",
    "# three random initialisations - small max_iter - may not converge\n",
    "input_csv = \"ExampleOne_Chain_U1XU2BU3Y_NetworkValues_deleted_U1U2U3.csv\"\n",
    "counter = 0 \n",
    "while counter < 3:\n",
    "    regression_parameters = mregress.multi_regress_from_csv_2(input_csv, \\\n",
    "        threshold=0.0001, random = 1, max_iter = 100000, learning_rate = 0.0005)\n",
    "\n",
    "    if \"all_regression_out_parameters\" in locals():\n",
    "        all_regression_out_parameters = np.append(all_regression_out_parameters, regression_parameters, axis=0)\n",
    "    else:\n",
    "        all_regression_out_parameters = regression_parameters\n",
    "    #print(\"regression_parameters: \\n\", regression_parameters)\n",
    "    #print(\"all_regression_parameters: \\n\", all_regression_out_parameters)\n",
    "    counter += 1\n",
    "print(\"all_regression_parameters: \\n\", all_regression_out_parameters)"
   ]
  },
  {
   "cell_type": "markdown",
   "metadata": {},
   "source": [
    "tenfold more iterations than the previous optimisations. "
   ]
  },
  {
   "cell_type": "code",
   "execution_count": 2,
   "metadata": {},
   "outputs": [
    {
     "name": "stdout",
     "output_type": "stream",
     "text": [
      "Calling Regression with threshold = 0.0001, random =             1, max_iter = 1000000\n",
      "random,  1\n",
      "using pseudo random initial parameter values.\n",
      "Calling Regression with threshold = 0.0001, random =             1, max_iter = 1000000\n",
      "random,  1\n",
      "using pseudo random initial parameter values.\n",
      "Calling Regression with threshold = 0.0001, random =             1, max_iter = 1000000\n",
      "random,  1\n",
      "using pseudo random initial parameter values.\n",
      "Calling Regression with threshold = 0.0001, random =             1, max_iter = 1000000\n",
      "random,  1\n",
      "using pseudo random initial parameter values.\n",
      "Calling Regression with threshold = 0.0001, random =             1, max_iter = 1000000\n",
      "random,  1\n",
      "using pseudo random initial parameter values.\n",
      "Calling Regression with threshold = 0.0001, random =             1, max_iter = 1000000\n",
      "random,  1\n",
      "using pseudo random initial parameter values.\n",
      "all_regression_parameters: \n",
      " [['  ' '  ']\n",
      " ['dependent' 'X']\n",
      " ['intercept' '4.714085438575743']\n",
      " ['B' '0.6607217357036618']\n",
      " ['Y' '0.004284740131961575']\n",
      " ['r_squared ' array([0.33558805])]\n",
      " ['  ' '  ']\n",
      " ['dependent' 'B']\n",
      " ['intercept' '3.981338292459225']\n",
      " ['X' '0.4056339290104706']\n",
      " ['Y' '0.3963821671280932']\n",
      " ['r_squared ' array([0.46593791])]\n",
      " ['  ' '  ']\n",
      " ['dependent' 'Y']\n",
      " ['intercept' '8.019217083789608']\n",
      " ['X' '0.0032848052532453037']\n",
      " ['B' '0.49497594643169346']\n",
      " ['r_squared ' array([0.27040614])]\n",
      " ['  ' '  ']\n",
      " ['dependent' 'X']\n",
      " ['intercept' '4.714085443177725']\n",
      " ['B' '0.6607217355812829']\n",
      " ['Y' '0.004284739998269733']\n",
      " ['r_squared ' array([0.33558805])]\n",
      " ['  ' '  ']\n",
      " ['dependent' 'B']\n",
      " ['intercept' '3.9813382885955715']\n",
      " ['X' '0.40563392908980617']\n",
      " ['Y' '0.3963821672691022']\n",
      " ['r_squared ' array([0.46593791])]\n",
      " ['  ' '  ']\n",
      " ['dependent' 'Y']\n",
      " ['intercept' '8.01921708363394']\n",
      " ['X' '0.003284805255708079']\n",
      " ['B' '0.4949759464377683']\n",
      " ['r_squared ' array([0.27040614])]]\n"
     ]
    }
   ],
   "source": [
    "import sys\n",
    "import numpy as np\n",
    "sys.path.append('..\\\\..\\\\..\\\\') # to pick up network_generator.py\n",
    "import multiple_regression_random_initialisation as mregress\n",
    "# Jupyter Notebook will carry over previous variable values, so reset for this next run\n",
    "if \"all_regression_out_parameters\" in locals():\n",
    "     del all_regression_out_parameters \n",
    "if \"regression_parameters\" in locals():\n",
    "    del regression_parameters\n",
    "\n",
    "input_csv = \"ExampleOne_Chain_U1XU2BU3Y_NetworkValues_deleted_U1U2U3.csv\"\n",
    "counter = 0 \n",
    "while counter < 2:\n",
    "    regression_parameters = mregress.multi_regress_from_csv_2(input_csv, \\\n",
    "        threshold=0.0001, random = 1, max_iter = 1000000, learning_rate = 0.0005)\n",
    "\n",
    "    if \"all_regression_out_parameters\" in locals():\n",
    "        all_regression_out_parameters = np.append(all_regression_out_parameters, regression_parameters, axis=0)\n",
    "    else:\n",
    "        all_regression_out_parameters = regression_parameters\n",
    "    #print(\"regression_parameters: \\n\", regression_parameters)\n",
    "    #print(\"all_regression_parameters: \\n\", all_regression_out_parameters)\n",
    "    counter += 1\n",
    "print(\"all_regression_parameters: \\n\", all_regression_out_parameters)"
   ]
  }
 ],
 "metadata": {
  "kernelspec": {
   "display_name": "Python 3.10.0 64-bit",
   "language": "python",
   "name": "python3"
  },
  "language_info": {
   "codemirror_mode": {
    "name": "ipython",
    "version": 3
   },
   "file_extension": ".py",
   "mimetype": "text/x-python",
   "name": "python",
   "nbconvert_exporter": "python",
   "pygments_lexer": "ipython3",
   "version": "3.10.0"
  },
  "orig_nbformat": 4,
  "vscode": {
   "interpreter": {
    "hash": "0be956a77a4c4fbf44b600a6f9eb2d46be2a1971f98f17fca2b6e6ee6e47b8d2"
   }
  }
 },
 "nbformat": 4,
 "nbformat_minor": 2
}
