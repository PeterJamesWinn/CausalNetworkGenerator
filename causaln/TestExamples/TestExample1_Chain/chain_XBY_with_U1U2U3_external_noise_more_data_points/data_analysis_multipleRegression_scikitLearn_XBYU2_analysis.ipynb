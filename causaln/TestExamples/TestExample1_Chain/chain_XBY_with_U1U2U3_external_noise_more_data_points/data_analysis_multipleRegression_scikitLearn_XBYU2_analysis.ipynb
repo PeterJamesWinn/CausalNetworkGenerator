{
 "cells": [
  {
   "cell_type": "markdown",
   "metadata": {},
   "source": [
    "Data was generated for the fork X<-B->Y . Multiple regression is on X, B and Y. "
   ]
  },
  {
   "cell_type": "code",
   "execution_count": 1,
   "metadata": {},
   "outputs": [
    {
     "name": "stdout",
     "output_type": "stream",
     "text": [
      "dependent name:  X\n",
      "independent names:  ['B', 'Y', 'U2']\n",
      "Intercept: \n",
      " -2.0000000000001457\n",
      "Coefficients: \n",
      " [ 2.00000000e+00 -7.10542736e-15 -2.00000000e+00]\n",
      "dependent name:  B\n",
      "independent names:  ['X', 'Y', 'U2']\n",
      "Intercept: \n",
      " 0.9999999999999822\n",
      "Coefficients: \n",
      " [ 5.0000000e-01 -7.7368667e-16  1.0000000e+00]\n",
      "dependent name:  Y\n",
      "independent names:  ['X', 'B', 'U2']\n",
      "Intercept: \n",
      " -198507803098.3984\n",
      "Coefficients: \n",
      " [-9.92539016e+10  1.98507803e+11 -1.98507803e+11]\n",
      "dependent name:  U2\n",
      "independent names:  ['X', 'B', 'Y']\n",
      "Intercept: \n",
      " -0.9999999999999627\n",
      "Coefficients: \n",
      " [-5.00000000e-01  1.00000000e+00 -3.88578059e-16]\n"
     ]
    }
   ],
   "source": [
    "# prints to screen/stdout the regression of each variable in the csv file\n",
    "# with every other variable in the csv file. Coefficient values are \n",
    "# in the same order as the output list of independent names of the variables\n",
    "import sys \n",
    "sys.path.append('..\\\\..\\\\..\\\\') # to pick up regression module.\n",
    "import calculate_multiple_regression as cmr\n",
    "input_csv = \"ExampleOne_Chain_U1XU2BU3Y_NetworkValues_deleted_U1U3.csv\"\n",
    "cmr.multi_regress_from_csv(input_csv)"
   ]
  }
 ],
 "metadata": {
  "kernelspec": {
   "display_name": "Python 3.10.0 64-bit",
   "language": "python",
   "name": "python3"
  },
  "language_info": {
   "codemirror_mode": {
    "name": "ipython",
    "version": 3
   },
   "file_extension": ".py",
   "mimetype": "text/x-python",
   "name": "python",
   "nbconvert_exporter": "python",
   "pygments_lexer": "ipython3",
   "version": "3.10.0"
  },
  "orig_nbformat": 4,
  "vscode": {
   "interpreter": {
    "hash": "0be956a77a4c4fbf44b600a6f9eb2d46be2a1971f98f17fca2b6e6ee6e47b8d2"
   }
  }
 },
 "nbformat": 4,
 "nbformat_minor": 2
}
