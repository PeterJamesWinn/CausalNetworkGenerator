{
 "cells": [
  {
   "cell_type": "markdown",
   "metadata": {},
   "source": [
    "Data was generated for the collider X->B<-Y. Multiple regression is on X, B and Y. "
   ]
  },
  {
   "cell_type": "code",
   "execution_count": 1,
   "metadata": {},
   "outputs": [
    {
     "name": "stdout",
     "output_type": "stream",
     "text": [
      "dependent name:  X\n",
      "independent names:  ['Y', 'B']\n",
      "Intercept: \n",
      " -9.999999999999996\n",
      "Coefficients: \n",
      " [-0.6  2. ]\n",
      "dependent name:  Y\n",
      "independent names:  ['X', 'B']\n",
      "Intercept: \n",
      " -16.66666666666668\n",
      "Coefficients: \n",
      " [-1.66666667  3.33333333]\n",
      "dependent name:  B\n",
      "independent names:  ['X', 'Y']\n",
      "Intercept: \n",
      " 5.0\n",
      "Coefficients: \n",
      " [0.5 0.3]\n"
     ]
    }
   ],
   "source": [
    "# prints to screen/stdout the regression of each variable in the csv file\n",
    "# with every other variable in the csv file. Coefficient values are \n",
    "# in the same order as the output list of independent names of the variables\n",
    "import sys \n",
    "sys.path.append('..\\\\..\\\\..\\\\') # to pick up regression module.\n",
    "import multiple_regression_random_initialisation as mregress\n",
    "import calculate_multiple_regression as cmr\n",
    "input_csv = \"ExampleThree_Collider_NetworkValues.csv\"\n",
    "cmr.multi_regress_from_csv(input_csv)"
   ]
  }
 ],
 "metadata": {
  "kernelspec": {
   "display_name": "Python 3.10.0 64-bit",
   "language": "python",
   "name": "python3"
  },
  "language_info": {
   "codemirror_mode": {
    "name": "ipython",
    "version": 3
   },
   "file_extension": ".py",
   "mimetype": "text/x-python",
   "name": "python",
   "nbconvert_exporter": "python",
   "pygments_lexer": "ipython3",
   "version": "3.10.0"
  },
  "orig_nbformat": 4,
  "vscode": {
   "interpreter": {
    "hash": "0be956a77a4c4fbf44b600a6f9eb2d46be2a1971f98f17fca2b6e6ee6e47b8d2"
   }
  }
 },
 "nbformat": 4,
 "nbformat_minor": 2
}
